{
 "cells": [
  {
   "cell_type": "markdown",
   "metadata": {
    "colab_type": "text",
    "id": "ULdrhOaVbsdO"
   },
   "source": [
    "# Acme: Tutorial\n",
    "\n",
    "<a href=\"https://colab.research.google.com/github/deepmind/acme/blob/master/examples/tutorial.ipynb\" target=\"_parent\"><img src=\"https://colab.research.google.com/assets/colab-badge.svg\" alt=\"Open In Colab\"/></a>\n",
    "\n",
    "This colab provides an overview of how Acme's modules can be stacked together to create reinforcement learning agents. It shows how to fit networks to environment specs, create actors, learners, replay buffers, datasets, adders, and full agents. It also highlights where you can swap out certain modules to create your own Acme based agents. "
   ]
  },
  {
   "cell_type": "markdown",
   "metadata": {
    "colab_type": "text",
    "id": "xaJxoatMhJ71"
   },
   "source": [
    "## Installation\n",
    "\n",
    "In the first few cells we'll start by installing all of the necessary dependencies (and a few optional ones)."
   ]
  },
  {
   "cell_type": "code",
   "execution_count": 1,
   "metadata": {
    "cellView": "form",
    "colab": {},
    "colab_type": "code",
    "id": "KH3O0zcXUeun"
   },
   "outputs": [],
   "source": [
    "#@title Install necessary dependencies.\n",
    "\n",
    "# !sudo apt-get install -y xvfb ffmpeg\n",
    "# !pip install 'gym==0.10.11'\n",
    "# !pip install imageio\n",
    "# !pip install PILLOW\n",
    "# !pip install 'pyglet==1.3.2'\n",
    "# !pip install pyvirtualdisplay\n",
    "\n",
    "# !pip install dm-acme\n",
    "# !pip install dm-acme[reverb]\n",
    "# !pip install dm-acme[tf]\n",
    "# !pip install dm-acme[envs]\n",
    "\n",
    "from IPython.display import clear_output\n",
    "clear_output()"
   ]
  },
  {
   "cell_type": "markdown",
   "metadata": {
    "colab_type": "text",
    "id": "VEEj3Qw60y73"
   },
   "source": [
    "### Install dm_control\n",
    "\n",
    "The next cell will install environments provided by `dm_control` _if_ you have an institutional MuJoCo license. This is not necessary, but without this you won't be able to use the `dm_cartpole` environment below and can instead follow this colab using `gym` environments. To do so simply expand the following cell, paste in your license file, and run the cell.\n",
    "\n",
    "Alternatively, Colab supports using a Jupyter kernel on your local machine which can be accomplished by following the guidelines here: https://research.google.com/colaboratory/local-runtimes.html. This will allow you to install `dm_control` by following instructions in https://github.com/deepmind/dm_control and using a personal MuJoCo license.\n"
   ]
  },
  {
   "cell_type": "code",
   "execution_count": 2,
   "metadata": {
    "cellView": "both",
    "colab": {},
    "colab_type": "code",
    "id": "IbZxYDxzoz5R"
   },
   "outputs": [
    {
     "name": "stdout",
     "output_type": "stream",
     "text": [
      "env: MUJOCO_GL=osmesa\n"
     ]
    }
   ],
   "source": [
    "# #@title Add your License\n",
    "# #@test {\"skip\": true}\n",
    "# mjkey = \"\"\"\n",
    "# \"\"\".strip()\n",
    "\n",
    "# mujoco_dir = \"$HOME/.mujoco\"\n",
    "\n",
    "# # Install OpenGL dependencies\n",
    "# !apt-get update && apt-get install -y --no-install-recommends \\\n",
    "#   libgl1-mesa-glx libosmesa6 libglew2.0\n",
    "\n",
    "# # Get MuJoCo binaries\n",
    "# !wget -q https://www.roboti.us/download/mujoco200_linux.zip -O mujoco.zip\n",
    "# !unzip -o -q mujoco.zip -d \"$mujoco_dir\"\n",
    "\n",
    "# # Copy over MuJoCo license\n",
    "# !echo \"$mjkey\" > \"$mujoco_dir/mjkey.txt\"\n",
    "\n",
    "# # Install dm_control\n",
    "# !pip install dm_control\n",
    "\n",
    "# Configure dm_control to use the OSMesa rendering backend\n",
    "%env MUJOCO_GL=osmesa\n",
    "\n",
    "# Check that the installation succeeded\n",
    "# try:\n",
    "#   from dm_control import suite\n",
    "#   env = suite.load('cartpole', 'swingup')\n",
    "#   pixels = env.physics.render()\n",
    "# except Exception as e:\n",
    "#   raise e from RuntimeError(\n",
    "#       'Something went wrong during installation. Check the shell output above '\n",
    "#       'for more information.')\n",
    "# else:\n",
    "#   from IPython.display import clear_output\n",
    "#   clear_output()\n",
    "#   del suite, env, pixels"
   ]
  },
  {
   "cell_type": "markdown",
   "metadata": {
    "colab_type": "text",
    "id": "c-H2d6UZi7Sf"
   },
   "source": [
    "## Import Modules\n",
    "\n",
    "Now we can import all the relevant modules."
   ]
  },
  {
   "cell_type": "code",
   "execution_count": 3,
   "metadata": {
    "cellView": "both",
    "colab": {},
    "colab_type": "code",
    "id": "HJ74Id-8MERq"
   },
   "outputs": [],
   "source": [
    "%%capture\n",
    "import copy\n",
    "import pyvirtualdisplay\n",
    "import imageio \n",
    "import base64\n",
    "import IPython\n",
    "\n",
    "\n",
    "from acme import environment_loop\n",
    "from acme.tf import networks\n",
    "from acme.adders import reverb as adders\n",
    "from acme.agents.tf import actors as actors\n",
    "from acme.datasets import reverb as datasets\n",
    "from acme.wrappers import gym_wrapper\n",
    "from acme import specs\n",
    "from acme import wrappers\n",
    "from acme.agents.tf import d4pg\n",
    "from acme.agents import agent\n",
    "from acme.tf import utils as tf2_utils\n",
    "from acme.utils import loggers\n",
    "\n",
    "import gym \n",
    "import dm_env\n",
    "import matplotlib.pyplot as plt\n",
    "import numpy as np\n",
    "import reverb\n",
    "import sonnet as snt\n",
    "import tensorflow as tf\n",
    "\n",
    "# Set up a virtual display for rendering OpenAI gym environments.\n",
    "display = pyvirtualdisplay.Display(visible=0, size=(1400, 900)).start()"
   ]
  },
  {
   "cell_type": "code",
   "execution_count": 4,
   "metadata": {},
   "outputs": [],
   "source": [
    "import robosuite as suite\n",
    "from robosuite.wrappers import GymWrapper\n",
    "from robosuite.controllers import load_controller_config"
   ]
  },
  {
   "cell_type": "code",
   "execution_count": 5,
   "metadata": {},
   "outputs": [],
   "source": [
    "from collections import OrderedDict"
   ]
  },
  {
   "cell_type": "markdown",
   "metadata": {
    "colab_type": "text",
    "id": "I6KuVGSk4uc9"
   },
   "source": [
    "## Load an environment\n",
    "\n",
    "We can now load an environment. In what follows we'll create an environment in order to generate and visualize a single state from that environment. Just select the environment you want to use and run the cell."
   ]
  },
  {
   "cell_type": "code",
   "execution_count": 6,
   "metadata": {},
   "outputs": [],
   "source": [
    "\n",
    "env_config = {\n",
    "     \"control_freq\": 20,\n",
    "    \"env_name\": \"Lift\",\n",
    "    \"hard_reset\": False,\n",
    "    \"horizon\": 500,\n",
    "    \"ignore_done\": False,\n",
    "    \"reward_scale\": 1.0,\n",
    "    \"camera_names\": \"frontview\",\n",
    "    \"robots\": [\n",
    "      \"Panda\"\n",
    "    ]\n",
    "}\n",
    "controller_config = load_controller_config(default_controller=\"OSC_POSITION\")"
   ]
  },
  {
   "cell_type": "code",
   "execution_count": 7,
   "metadata": {},
   "outputs": [],
   "source": [
    "env_suite = suite.make(**env_config,\n",
    "                 has_renderer=False,\n",
    "                 has_offscreen_renderer=False,\n",
    "                 use_camera_obs=False,\n",
    "                 reward_shaping=True,\n",
    "                 controller_configs=controller_config,\n",
    "                 )"
   ]
  },
  {
   "cell_type": "code",
   "execution_count": 8,
   "metadata": {},
   "outputs": [
    {
     "name": "stderr",
     "output_type": "stream",
     "text": [
      "/home/mohan/miniconda3/envs/acme/lib/python3.8/site-packages/gym/logger.py:30: UserWarning: \u001b[33mWARN: Box bound precision lowered by casting to float32\u001b[0m\n",
      "  warnings.warn(colorize('%s: %s'%('WARN', msg % args), 'yellow'))\n"
     ]
    }
   ],
   "source": [
    "keys = [\"object-state\"]\n",
    "for idx in range(len(env_suite.robots)):\n",
    "    keys.append(f\"robot{idx}_proprio-state\")\n",
    "    \n",
    "    # Wrap environment so it's compatible with Gym API\n",
    "environment = GymWrapper(env_suite, keys=keys)"
   ]
  },
  {
   "cell_type": "code",
   "execution_count": 9,
   "metadata": {},
   "outputs": [],
   "source": [
    "environment = gym_wrapper.GymWrapper(environment)"
   ]
  },
  {
   "cell_type": "code",
   "execution_count": 10,
   "metadata": {},
   "outputs": [],
   "source": [
    "environment = wrappers.SinglePrecisionWrapper(environment)"
   ]
  },
  {
   "cell_type": "code",
   "execution_count": 11,
   "metadata": {},
   "outputs": [],
   "source": [
    "def render(env):\n",
    "    return env.environment.render()"
   ]
  },
  {
   "cell_type": "code",
   "execution_count": 12,
   "metadata": {},
   "outputs": [],
   "source": [
    "# frame = render(environment)\n",
    "# plt.imshow(frame)\n",
    "# plt.axis('off')"
   ]
  },
  {
   "cell_type": "code",
   "execution_count": 13,
   "metadata": {},
   "outputs": [],
   "source": [
    "# observation_spec = OrderedDict()\n",
    "# for key in keys:\n",
    "#     observation_spec[key] = specs.Array(environment.observation_spec()[key].shape, np.float32, key)\n",
    "# reward_spec = specs.Array((), np.float32)\n",
    "# discount_spec = specs.BoundedArray((), np.float32, 0.0, 1.0)"
   ]
  },
  {
   "cell_type": "code",
   "execution_count": 14,
   "metadata": {},
   "outputs": [],
   "source": [
    "# action_spec=specs.BoundedArray(\n",
    "#           shape=environment.action_spec[0].shape, dtype=np.float32, minimum=-1., maximum=1.)"
   ]
  },
  {
   "cell_type": "code",
   "execution_count": 15,
   "metadata": {},
   "outputs": [],
   "source": [
    "# observation_spec, action_spec, reward_spec, discount_spec"
   ]
  },
  {
   "cell_type": "markdown",
   "metadata": {
    "colab_type": "text",
    "id": "dQJprnmn41fP"
   },
   "source": [
    "### Environment Spec\n",
    "\n",
    "We will later interact with the environment in a loop corresponding to the following diagram: \n",
    "\n",
    "<img src=\"https://github.com/deepmind/acme/raw/master/docs/diagrams/environment_loop.png\" width=\"500\" />\n",
    "\n",
    "But before we start building an agent to interact with this environment, let's first look at the types of objects the environment either returns (e.g. observations) or consumes (e.g. actions). The `environment_spec` will show you the form of the *observations*, *rewards* and *discounts* that the environment exposes and the form of the *actions* that can be taken.\n"
   ]
  },
  {
   "cell_type": "code",
   "execution_count": 16,
   "metadata": {},
   "outputs": [],
   "source": [
    "#environment_spec = specs.EnvironmentSpec(observations=observation_spec, actions=action_spec, rewards=reward_spec, discounts=discount_spec)\n",
    "environment_spec = specs.make_environment_spec(environment)"
   ]
  },
  {
   "cell_type": "code",
   "execution_count": 17,
   "metadata": {
    "colab": {},
    "colab_type": "code",
    "id": "lph6pbmu7UfZ"
   },
   "outputs": [
    {
     "name": "stdout",
     "output_type": "stream",
     "text": [
      "actions:\n",
      " BoundedArray(shape=(4,), dtype=dtype('float32'), name='action', minimum=[-1. -1. -1. -1.], maximum=[1. 1. 1. 1.]) \n",
      "\n",
      "observations:\n",
      " BoundedArray(shape=(42,), dtype=dtype('float32'), name='observation', minimum=[-inf -inf -inf -inf -inf -inf -inf -inf -inf -inf -inf -inf -inf -inf\n",
      " -inf -inf -inf -inf -inf -inf -inf -inf -inf -inf -inf -inf -inf -inf\n",
      " -inf -inf -inf -inf -inf -inf -inf -inf -inf -inf -inf -inf -inf -inf], maximum=[inf inf inf inf inf inf inf inf inf inf inf inf inf inf inf inf inf inf\n",
      " inf inf inf inf inf inf inf inf inf inf inf inf inf inf inf inf inf inf\n",
      " inf inf inf inf inf inf]) \n",
      "\n",
      "rewards:\n",
      " Array(shape=(), dtype=dtype('float32'), name='reward') \n",
      "\n",
      "discounts:\n",
      " BoundedArray(shape=(), dtype=dtype('float32'), name='discount', minimum=0.0, maximum=1.0) \n",
      "\n"
     ]
    }
   ],
   "source": [
    "print('actions:\\n', environment_spec.actions, '\\n')\n",
    "print('observations:\\n', environment_spec.observations, '\\n')\n",
    "print('rewards:\\n', environment_spec.rewards, '\\n')\n",
    "print('discounts:\\n', environment_spec.discounts, '\\n')"
   ]
  },
  {
   "cell_type": "markdown",
   "metadata": {
    "colab_type": "text",
    "id": "M0h2xojW9wT2"
   },
   "source": [
    "## Build a policy network that maps observations to actions. \n",
    "\n",
    "The most important part of a reinforcement learning algorithm is potentially the policy that maps environment observations to actions. We can use a simple neural network to create a policy, in this case a simple feedforward MLP with layer norm. For our TensorFlow agents we make use of the `sonnet` library to specify networks or modules; all of the networks we will work with also have an initial batch dimension which allows for batched inference/learning.\n",
    "\n",
    "It is possible that the the observations returned by the environment are nested in some way: e.g. environments from the `dm_control` suite are frequently returned as dictionaries containing `position` and `velocity` entries. Our network is allowed to arbitarily map this dictionary to produce an action, but in this case we will simply concatenate these observations before feeding it through the MLP. We can do so using Acme's `batch_concat` utility to flatten the nested observation into a single dimension for each batch. If the observation is already flat this will be a no-op.\n",
    "\n",
    "Similarly, the output of the MLP is may have a different range of values than the action spec dictates. For this, we can use Acme's `TanhToSpec` module to rescale our actions to meet the spec."
   ]
  },
  {
   "cell_type": "code",
   "execution_count": 18,
   "metadata": {
    "colab": {},
    "colab_type": "code",
    "id": "JZKWAFEQz5NP"
   },
   "outputs": [],
   "source": [
    "# Calculate how big the last layer should be based on total # of actions.\n",
    "action_spec = environment_spec.actions\n",
    "action_size = np.prod(action_spec.shape, dtype=int)\n",
    "exploration_sigma = 0.3\n",
    "\n",
    "# In order the following modules:\n",
    "# 1. Flatten the observations to be [B, ...] where B is the batch dimension.\n",
    "# 2. Define a simple MLP which is the guts of this policy.\n",
    "# 3. Make sure the output action matches the spec of the actions.\n",
    "policy_modules = [\n",
    "    tf2_utils.batch_concat,\n",
    "    networks.LayerNormMLP(layer_sizes=(300, 200, action_size)),\n",
    "    networks.TanhToSpec(spec=environment_spec.actions)]\n",
    "\n",
    "policy_network = snt.Sequential(policy_modules)\n",
    "\n",
    "# We will also create a version of this policy that uses exploratory noise.\n",
    "behavior_network = snt.Sequential(\n",
    "    policy_modules + [networks.ClippedGaussian(exploration_sigma),\n",
    "                      networks.ClipToSpec(action_spec)])"
   ]
  },
  {
   "cell_type": "markdown",
   "metadata": {
    "colab_type": "text",
    "id": "9FbmoOpZKwid"
   },
   "source": [
    "## Create an actor\n",
    "\n",
    "An `Actor` is the part of our framework that directly interacts with an environment by generating actions. In more detail the earlier diagram can be expanded to show exactly how this interaction occurs:\n",
    "\n",
    "<img src=\"https://github.com/deepmind/acme/raw/master/docs/diagrams/actor_loop.png\" width=\"500\" />\n",
    "\n",
    "While you can always write your own actor, in Acme we also provide a number of useful premade versions. For the network we specified above we will make use of a `FeedForwardActor` that wraps a single feed forward network and knows how to do things like handle any batch dimensions or record observed transitions."
   ]
  },
  {
   "cell_type": "code",
   "execution_count": 19,
   "metadata": {
    "colab": {},
    "colab_type": "code",
    "id": "rpTs49OWKvMV"
   },
   "outputs": [],
   "source": [
    "actor = actors.FeedForwardActor(policy_network)"
   ]
  },
  {
   "cell_type": "markdown",
   "metadata": {
    "colab_type": "text",
    "id": "oMxSAzDWYhC4"
   },
   "source": [
    "All actors have the following public methods and attributes:"
   ]
  },
  {
   "cell_type": "code",
   "execution_count": 20,
   "metadata": {
    "colab": {},
    "colab_type": "code",
    "id": "iKoARV3gYfcV"
   },
   "outputs": [
    {
     "data": {
      "text/plain": [
       "['observe', 'observe_first', 'select_action', 'update']"
      ]
     },
     "execution_count": 20,
     "metadata": {},
     "output_type": "execute_result"
    }
   ],
   "source": [
    "[method_or_attr for method_or_attr in dir(actor)  # pylint: disable=expression-not-assigned\n",
    " if not method_or_attr.startswith('_')]"
   ]
  },
  {
   "cell_type": "markdown",
   "metadata": {
    "colab_type": "text",
    "id": "3qrb2ZGhAoR5"
   },
   "source": [
    "## Evaluate the random actor's policy.\n",
    "\n",
    "\n",
    "Although we have instantiated an actor with a policy, the policy has not yet learned to achieve any task reward, and is essentially just acting randomly. However this is a perfect opportunity to see how the actor and environment interact. Below we define a simple helper function to display a video given frames from this interaction, and we show 500 steps of the actor taking actions in the world."
   ]
  },
  {
   "cell_type": "code",
   "execution_count": 21,
   "metadata": {
    "colab": {},
    "colab_type": "code",
    "id": "OIJRbtAlxQVu"
   },
   "outputs": [],
   "source": [
    "def display_video(frames, filename='temp.mp4'):\n",
    "  \"\"\"Save and display video.\"\"\"\n",
    "  # Write video\n",
    "  with imageio.get_writer(filename, fps=60) as video:\n",
    "    for frame in frames:\n",
    "      video.append_data(frame)\n",
    "  # Read video and display the video\n",
    "  video = open(filename, 'rb').read()\n",
    "  b64_video = base64.b64encode(video)\n",
    "  video_tag = ('<video  width=\"320\" height=\"240\" controls alt=\"test\" '\n",
    "               'src=\"data:video/mp4;base64,{0}\">').format(b64_video.decode())\n",
    "  return IPython.display.HTML(video_tag)"
   ]
  },
  {
   "cell_type": "code",
   "execution_count": 22,
   "metadata": {},
   "outputs": [],
   "source": [
    "def render(env):\n",
    "    \n",
    "    return env.render()"
   ]
  },
  {
   "cell_type": "code",
   "execution_count": 23,
   "metadata": {
    "colab": {},
    "colab_type": "code",
    "id": "wdCeuvHeUwwm"
   },
   "outputs": [],
   "source": [
    "# # Run the actor in the environment for desired number of steps.\n",
    "# frames = []\n",
    "# num_steps = 500\n",
    "# timestep = environment.reset()\n",
    "\n",
    "# for _ in range(num_steps):\n",
    "#   frames.append(render(environment))\n",
    "#   action = actor.select_action(timestep.observation)\n",
    "#   timestep = environment.step(action)\n",
    "\n",
    "# # Save video of the behaviour.\n",
    "# display_video(np.array(frames))"
   ]
  },
  {
   "cell_type": "markdown",
   "metadata": {
    "colab_type": "text",
    "id": "iz_OYw60MHmc"
   },
   "source": [
    "## Storing actor experiences in a replay buffer\n",
    "\n",
    "Many RL agents utilize a data structure such as a replay buffer to store data from the environment (e.g. observations) along with actions taken by the actor. This data will later be fed into a learning process in order to update the policy. Again we can expand our earlier diagram to include this step:\n",
    "\n",
    "<img src=\"https://github.com/deepmind/acme/raw/master/docs/diagrams/batch_loop.png\" width=\"500\" />\n",
    "\n",
    "In order to make this possible, Acme leverages [Reverb](https://github.com/deepmind/reverb) which is an efficient and easy-to-use data storage and transport system designed for Machine Learning research. Below we will create the replay buffer before interacting with it."
   ]
  },
  {
   "cell_type": "code",
   "execution_count": null,
   "metadata": {},
   "outputs": [],
   "source": []
  },
  {
   "cell_type": "code",
   "execution_count": 24,
   "metadata": {
    "colab": {},
    "colab_type": "code",
    "id": "uQ0NAMwGWHu6"
   },
   "outputs": [],
   "source": [
    "# Create a table with the following attributes:\n",
    "# 1. when replay is full we remove the oldest entries first.\n",
    "# 2. to sample from replay we will do so uniformly at random.\n",
    "# 3. before allowing sampling to proceed we make sure there is at least\n",
    "#    one sample in the replay table.\n",
    "# 4. we use a default table name so we don't have to repeat it many times below;\n",
    "#    if we left this off we'd need to feed it into adders/actors/etc. below.\n",
    "replay_buffer = reverb.Table(\n",
    "    name=adders.DEFAULT_PRIORITY_TABLE,\n",
    "    max_size=1000000,\n",
    "    remover=reverb.selectors.Fifo(),\n",
    "    sampler=reverb.selectors.Uniform(),\n",
    "    signature=adders.NStepTransitionAdder.signature(\n",
    "          environment_spec),\n",
    "    rate_limiter=reverb.rate_limiters.MinSize(min_size_to_sample=1))\n",
    "\n",
    "# Get the server and address so we can give it to the modules such as our actor\n",
    "# that will interact with the replay buffer.\n",
    "replay_server = reverb.Server([replay_buffer], port=None)\n",
    "replay_server_address = 'localhost:%d' % replay_server.port"
   ]
  },
  {
   "cell_type": "markdown",
   "metadata": {
    "colab_type": "text",
    "id": "joJaFWKjNep-"
   },
   "source": [
    "We could interact directly with Reverb in order to add data to replay. However in Acme we have an additional layer on top of this data-storage that allows us to use the same interface no matter what kind of data we are inserting. \n",
    "\n",
    "This layer in Acme corresponds to an `Adder` which adds experience to a data table. We provide several adders that differ based on the type of information that is desired to be stored in the table, however in this case we will make use of an `NStepTransitionAdder` which stores simple transitions (if N=1) or accumulates N-steps to form an aggregated transition."
   ]
  },
  {
   "cell_type": "code",
   "execution_count": 25,
   "metadata": {
    "colab": {},
    "colab_type": "code",
    "id": "9CozET1ENd_j"
   },
   "outputs": [],
   "source": [
    "# Create a 5-step transition adder where in between those steps a discount of\n",
    "# 0.99 is used (which should be the same discount used for learning).\n",
    "adder = adders.NStepTransitionAdder(\n",
    "    client=reverb.Client(replay_server_address),\n",
    "    n_step=10,\n",
    "    discount=0.999)"
   ]
  },
  {
   "cell_type": "markdown",
   "metadata": {
    "colab_type": "text",
    "id": "rMOgmNpsiyC5"
   },
   "source": [
    "We can either directly use the adder to add transitions to replay directly using the `add()` and `add_first()` methods as follows:"
   ]
  },
  {
   "cell_type": "code",
   "execution_count": 26,
   "metadata": {},
   "outputs": [],
   "source": [
    "from tqdm import tqdm"
   ]
  },
  {
   "cell_type": "code",
   "execution_count": 27,
   "metadata": {
    "cellView": "both",
    "colab": {},
    "colab_type": "code",
    "id": "ia16FN4dPWk4"
   },
   "outputs": [],
   "source": [
    "# %%time\n",
    "# num_episodes = 2  #@param\n",
    "\n",
    "# for episode in tqdm(range(num_episodes)):\n",
    "#   timestep = environment.reset()\n",
    "#   adder.add_first(timestep)\n",
    "  \n",
    "#   count = 0\n",
    "#   while not timestep.last():\n",
    "#     print(f\"current step: {count}\")\n",
    "#     count += 1\n",
    "#     if(count > 10):\n",
    "#         break\n",
    "#     action = actor.select_action(timestep.observation)\n",
    "#     timestep = environment.step(action)\n",
    "#     print(f\"action: {action}, timestep: {timestep}\")\n",
    "#     adder.add(action=action, next_timestep=timestep)"
   ]
  },
  {
   "cell_type": "markdown",
   "metadata": {
    "colab_type": "text",
    "id": "vxNHy-h2Wl9q"
   },
   "source": [
    "Since this is a common enough way to observe data, `Actor`s in Acme generally take an `Adder` instance that they use to define their observation methods. We saw earlier that the `FeedForwardActor` like all `Actor`s defines `observe` and `observe_first` methods. If we give the actor an `Adder` instance at init then it will use this adder to make observations."
   ]
  },
  {
   "cell_type": "code",
   "execution_count": 28,
   "metadata": {
    "colab": {},
    "colab_type": "code",
    "id": "Xp-YYHaHWQg_"
   },
   "outputs": [],
   "source": [
    "actor = actors.FeedForwardActor(policy_network=behavior_network, adder=adder)"
   ]
  },
  {
   "cell_type": "markdown",
   "metadata": {
    "colab_type": "text",
    "id": "ertrRdjOZHZ3"
   },
   "source": [
    "Below we repeat the same process, but using `actor` and its `observe` methods. We note these subtle changes below."
   ]
  },
  {
   "cell_type": "code",
   "execution_count": 29,
   "metadata": {
    "cellView": "both",
    "colab": {},
    "colab_type": "code",
    "id": "rJ0_UCLeZPOt"
   },
   "outputs": [],
   "source": [
    "# %%time\n",
    "# num_episodes = 2  #@param\n",
    "\n",
    "# for episode in range(num_episodes):\n",
    "#   timestep = environment.reset()\n",
    "#   actor.observe_first(timestep)  # Note: observe_first.\n",
    "\n",
    "#   while not timestep.last():\n",
    "#     action = actor.select_action(timestep.observation)\n",
    "#     timestep = environment.step(action)\n",
    "#     actor.observe(action=action, next_timestep=timestep)  # Note: observe."
   ]
  },
  {
   "cell_type": "markdown",
   "metadata": {
    "colab_type": "text",
    "id": "OVj1cBw8epeh"
   },
   "source": [
    "## Learning from experiences in replay\n",
    "Acme provides multiple learning algorithms/agents.  Here, we will use the Acme's D4PG learning algorithm to learn from the data collected by the actor. To do so, we first create a TensorFlow dataset from the Reverb table using the `make_dataset` function. "
   ]
  },
  {
   "cell_type": "code",
   "execution_count": 30,
   "metadata": {
    "colab": {},
    "colab_type": "code",
    "id": "IbDfFYTRqmoz"
   },
   "outputs": [],
   "source": [
    "# This connects to the created reverb server; also note that we use a transition\n",
    "# adder above so we'll tell the dataset function that so that it knows the type\n",
    "# of data that's coming out.\n",
    "dataset = datasets.make_dataset(\n",
    "    server_address=replay_server_address,\n",
    "    batch_size=2048,\n",
    "    transition_adder=True)\n",
    "\n",
    "dataset_iterator = iter(dataset)"
   ]
  },
  {
   "cell_type": "markdown",
   "metadata": {
    "colab_type": "text",
    "id": "G5VUXDBytDu9"
   },
   "source": [
    "In what follows we'll make use of D4PG, an actor-critic learning algorithm. D4PG is a somewhat complicated algorithm, so we'll leave a full explanation of this method to the accompanying paper (see the documentation).\n",
    "\n",
    "However, since D4PG is an actor-critic algorithm we will have to specify a critic for it (a value function). In this case D4PG uses a distributional critic as well. D4PG also makes use of online and target networks so we need to create copies of both the policy_network (from earlier) and the new critic network we are about to create.\n",
    "\n",
    "To build our critic networks, we use a ***multiplexer***, which is simply a neural network module that takes multiple inputs and processes them in different ways before combining them and processing further. In the case of Acme's `CriticMultiplexer`, the inputs are observations and actions, each with their own network torso. There is then a critic network module that processes the outputs of the observation network and the action network and outputs a tensor.\n",
    "\n",
    "Finally, in order to optimize these networks the learner must receive networks with the variables created. We have utilities in Acme to handle exactly this, and we do so in the final lines of the following code block."
   ]
  },
  {
   "cell_type": "code",
   "execution_count": 31,
   "metadata": {
    "colab": {},
    "colab_type": "code",
    "id": "OgTk7IAKXKz0"
   },
   "outputs": [],
   "source": [
    "critic_network = snt.Sequential([\n",
    "    networks.CriticMultiplexer(\n",
    "        observation_network=tf2_utils.batch_concat,\n",
    "        action_network=tf.identity,\n",
    "        critic_network=networks.LayerNormMLP(\n",
    "            layer_sizes=(400, 300),\n",
    "            activate_final=True)),\n",
    "    # Value-head gives a 51-atomed delta distribution over state-action values.\n",
    "    networks.DiscreteValuedHead(vmin=-500., vmax=500., num_atoms=51)])\n",
    "\n",
    "# Create the target networks\n",
    "target_policy_network = copy.deepcopy(policy_network)\n",
    "target_critic_network = copy.deepcopy(critic_network)\n",
    "\n",
    "# We must create the variables in the networks before passing them to learner.\n",
    "tf2_utils.create_variables(network=policy_network,\n",
    "                           input_spec=[environment_spec.observations])\n",
    "tf2_utils.create_variables(network=critic_network,\n",
    "                           input_spec=[environment_spec.observations,\n",
    "                                       environment_spec.actions])\n",
    "tf2_utils.create_variables(network=target_policy_network,\n",
    "                           input_spec=[environment_spec.observations])\n",
    "tf2_utils.create_variables(network=target_critic_network,\n",
    "                           input_spec=[environment_spec.observations,\n",
    "                                       environment_spec.actions])"
   ]
  },
  {
   "cell_type": "markdown",
   "metadata": {
    "colab_type": "text",
    "id": "ENTZ_cj3GiLr"
   },
   "source": [
    "We can now create a learner that uses these networks. Note that here we're using the same discount factor as was used in the transition adder. The rest of the parameters are reasonable defaults.\n",
    "\n",
    "Note however that we will log output to the terminal at regular intervals. We have also turned off checkpointing of the network weights (i.e. saving them). This is usually used by default but can cause issues with interactive colab sessions."
   ]
  },
  {
   "cell_type": "code",
   "execution_count": 32,
   "metadata": {},
   "outputs": [
    {
     "data": {
      "text/plain": [
       "\u001b[0;31mInit signature:\u001b[0m \u001b[0md4pg\u001b[0m\u001b[0;34m.\u001b[0m\u001b[0mD4PGLearner\u001b[0m\u001b[0;34m(\u001b[0m\u001b[0;34m*\u001b[0m\u001b[0margs\u001b[0m\u001b[0;34m,\u001b[0m \u001b[0;34m**\u001b[0m\u001b[0mkwds\u001b[0m\u001b[0;34m)\u001b[0m\u001b[0;34m\u001b[0m\u001b[0;34m\u001b[0m\u001b[0m\n",
       "\u001b[0;31mDocstring:\u001b[0m     \n",
       "D4PG learner.\n",
       "\n",
       "This is the learning component of a D4PG agent. IE it takes a dataset as input\n",
       "and implements update functionality to learn from this dataset.\n",
       "\u001b[0;31mInit docstring:\u001b[0m\n",
       "Initializes the learner.\n",
       "\n",
       "Args:\n",
       "  policy_network: the online (optimized) policy.\n",
       "  critic_network: the online critic.\n",
       "  target_policy_network: the target policy (which lags behind the online\n",
       "    policy).\n",
       "  target_critic_network: the target critic.\n",
       "  discount: discount to use for TD updates.\n",
       "  target_update_period: number of learner steps to perform before updating\n",
       "    the target networks.\n",
       "  dataset_iterator: dataset to learn from, whether fixed or from a replay\n",
       "    buffer (see `acme.datasets.reverb.make_dataset` documentation).\n",
       "  observation_network: an optional online network to process observations\n",
       "    before the policy and the critic.\n",
       "  target_observation_network: the target observation network.\n",
       "  policy_optimizer: the optimizer to be applied to the DPG (policy) loss.\n",
       "  critic_optimizer: the optimizer to be applied to the distributional\n",
       "    Bellman loss.\n",
       "  clipping: whether to clip gradients by global norm.\n",
       "  counter: counter object used to keep track of steps.\n",
       "  logger: logger object to be used by learner.\n",
       "  checkpoint: boolean indicating whether to checkpoint the learner.\n",
       "\u001b[0;31mFile:\u001b[0m           ~/research/masters/robotics/rl/acme/acme/agents/tf/d4pg/learning.py\n",
       "\u001b[0;31mType:\u001b[0m           ABCMeta\n",
       "\u001b[0;31mSubclasses:\u001b[0m     \n"
      ]
     },
     "metadata": {},
     "output_type": "display_data"
    }
   ],
   "source": [
    "d4pg.D4PGLearner?"
   ]
  },
  {
   "cell_type": "code",
   "execution_count": 32,
   "metadata": {
    "colab": {},
    "colab_type": "code",
    "id": "5DkJrgkSW94O"
   },
   "outputs": [],
   "source": [
    "learner = d4pg.D4PGLearner(policy_network=policy_network,\n",
    "                           critic_network=critic_network,\n",
    "                           target_policy_network=target_policy_network,\n",
    "                           target_critic_network=target_critic_network,\n",
    "                           dataset_iterator=dataset_iterator,\n",
    "                           discount=0.999,\n",
    "                           target_update_period=100,\n",
    "                           policy_optimizer=snt.optimizers.Adam(1e-4),\n",
    "                           critic_optimizer=snt.optimizers.Adam(1e-4),\n",
    "                           # Log learner updates to console every 10 seconds.\n",
    "                           logger=loggers.TerminalLogger(time_delta=10.),\n",
    "                           checkpoint=False)"
   ]
  },
  {
   "cell_type": "markdown",
   "metadata": {
    "colab_type": "text",
    "id": "ANG_L3e1dGoT"
   },
   "source": [
    "Inspecting the learner's public methods we see that it primarily exists to expose its variables and update them. IE this looks remarkably similar to supervised learning."
   ]
  },
  {
   "cell_type": "code",
   "execution_count": 33,
   "metadata": {
    "colab": {},
    "colab_type": "code",
    "id": "Tl3Hu9nHcyp5"
   },
   "outputs": [
    {
     "data": {
      "text/plain": [
       "['get_variables', 'restore', 'run', 'save', 'step']"
      ]
     },
     "execution_count": 33,
     "metadata": {},
     "output_type": "execute_result"
    }
   ],
   "source": [
    "[method_or_attr for method_or_attr in dir(learner)  # pylint: disable=expression-not-assigned\n",
    " if not method_or_attr.startswith('_')]"
   ]
  },
  {
   "cell_type": "markdown",
   "metadata": {
    "colab_type": "text",
    "id": "oG9SglevFrmQ"
   },
   "source": [
    "The learner's `step()` method samples a batch of data from the replay dataset given to it, and performs optimization using the optimizer, logging loss metrics along the way. Note: in order to sample from the replay dataset, there must be at least 1000 elements in the replay buffer (which should already have from the actor's added experiences.)"
   ]
  },
  {
   "cell_type": "code",
   "execution_count": 34,
   "metadata": {
    "colab": {},
    "colab_type": "code",
    "id": "estCksXXFi2_"
   },
   "outputs": [],
   "source": [
    "# learner.step()"
   ]
  },
  {
   "cell_type": "markdown",
   "metadata": {
    "colab_type": "text",
    "id": "dL6U_Wi2HTA2"
   },
   "source": [
    "# Training loop\n",
    "Finally, we can put all of the pieces together and run some training steps in the environment, alternating the actor's experience gathering with learner's learning.\n",
    "\n",
    "This is a simple training loop that runs for `num_training_episodes` episodes where the actor and learner take turns generating and learning from experience respectively:\n",
    "\n",
    "- Actor acts in environment & adds experience to replay for `min_actor_steps_per_iteration` steps<br>\n",
    "- Learner samples from replay data and learns from it for `num_learner_steps_per_iteration` steps<br>\n",
    "\n",
    "Note: Since the learner and actor are sharing a policy network, any learning done on the learner, automatically is transferred to the actor's policy.\n"
   ]
  },
  {
   "cell_type": "code",
   "execution_count": 35,
   "metadata": {
    "cellView": "both",
    "colab": {},
    "colab_type": "code",
    "id": "zC0PgbeyHSSP"
   },
   "outputs": [
    {
     "name": "stdout",
     "output_type": "stream",
     "text": [
      "Episode: 0 | Return: 0.008869 | Learner steps: 0 | Actor steps: 500\n",
      "Episode: 1 | Return: 0.234492 | Learner steps: 0 | Actor steps: 1000\n",
      "Episode: 2 | Return: 0.005285 | Learner steps: 0 | Actor steps: 1500\n",
      "Episode: 3 | Return: 0.197221 | Learner steps: 0 | Actor steps: 2000\n",
      "Episode: 4 | Return: 0.014836 | Learner steps: 0 | Actor steps: 2500\n",
      "Episode: 5 | Return: 0.013109 | Learner steps: 0 | Actor steps: 3000\n",
      "Episode: 6 | Return: 0.003372 | Learner steps: 0 | Actor steps: 3500\n",
      "Episode: 7 | Return: 1.170404 | Learner steps: 0 | Actor steps: 4000\n",
      "Episode: 8 | Return: 0.000589 | Learner steps: 0 | Actor steps: 4500\n",
      "Episode: 9 | Return: 0.016265 | Learner steps: 1000 | Actor steps: 5000\n",
      "Episode: 10 | Return: 0.018744 | Learner steps: 1000 | Actor steps: 5500\n",
      "Episode: 11 | Return: 0.082643 | Learner steps: 1000 | Actor steps: 6000\n",
      "Episode: 12 | Return: 0.011862 | Learner steps: 1000 | Actor steps: 6500\n",
      "Episode: 13 | Return: 0.028784 | Learner steps: 1000 | Actor steps: 7000\n",
      "Episode: 14 | Return: 0.019053 | Learner steps: 2000 | Actor steps: 7500\n",
      "Episode: 15 | Return: 17.834221 | Learner steps: 2000 | Actor steps: 8000\n",
      "Episode: 16 | Return: 0.457830 | Learner steps: 2000 | Actor steps: 8500\n",
      "Episode: 17 | Return: 0.146308 | Learner steps: 2000 | Actor steps: 9000\n",
      "Episode: 18 | Return: 20.612499 | Learner steps: 2000 | Actor steps: 9500\n",
      "Episode: 19 | Return: 16.780922 | Learner steps: 3000 | Actor steps: 10000\n",
      "Episode: 20 | Return: 0.028948 | Learner steps: 3000 | Actor steps: 10500\n",
      "Episode: 21 | Return: 0.007547 | Learner steps: 3000 | Actor steps: 11000\n",
      "Episode: 22 | Return: 0.033652 | Learner steps: 3000 | Actor steps: 11500\n",
      "Episode: 23 | Return: 0.021351 | Learner steps: 3000 | Actor steps: 12000\n",
      "Episode: 24 | Return: 0.056891 | Learner steps: 4000 | Actor steps: 12500\n",
      "Episode: 25 | Return: 0.030783 | Learner steps: 4000 | Actor steps: 13000\n",
      "Episode: 26 | Return: 0.082155 | Learner steps: 4000 | Actor steps: 13500\n",
      "Episode: 27 | Return: 0.056691 | Learner steps: 4000 | Actor steps: 14000\n",
      "Episode: 28 | Return: 0.032328 | Learner steps: 4000 | Actor steps: 14500\n",
      "Episode: 29 | Return: 0.003549 | Learner steps: 5000 | Actor steps: 15000\n",
      "Episode: 30 | Return: 0.139629 | Learner steps: 5000 | Actor steps: 15500\n",
      "Episode: 31 | Return: 0.071670 | Learner steps: 5000 | Actor steps: 16000\n",
      "Episode: 32 | Return: 0.064031 | Learner steps: 5000 | Actor steps: 16500\n"
     ]
    },
    {
     "ename": "KeyboardInterrupt",
     "evalue": "",
     "output_type": "error",
     "traceback": [
      "\u001b[0;31m---------------------------------------------------------------------------\u001b[0m",
      "\u001b[0;31mKeyboardInterrupt\u001b[0m                         Traceback (most recent call last)",
      "\u001b[0;32m<timed exec>\u001b[0m in \u001b[0;36m<module>\u001b[0;34m\u001b[0m\n",
      "\u001b[0;32m~/research/masters/robotics/rl/acme/acme/wrappers/single_precision.py\u001b[0m in \u001b[0;36mstep\u001b[0;34m(self, action)\u001b[0m\n\u001b[1;32m     35\u001b[0m \u001b[0;34m\u001b[0m\u001b[0m\n\u001b[1;32m     36\u001b[0m   \u001b[0;32mdef\u001b[0m \u001b[0mstep\u001b[0m\u001b[0;34m(\u001b[0m\u001b[0mself\u001b[0m\u001b[0;34m,\u001b[0m \u001b[0maction\u001b[0m\u001b[0;34m)\u001b[0m \u001b[0;34m->\u001b[0m \u001b[0mdm_env\u001b[0m\u001b[0;34m.\u001b[0m\u001b[0mTimeStep\u001b[0m\u001b[0;34m:\u001b[0m\u001b[0;34m\u001b[0m\u001b[0;34m\u001b[0m\u001b[0m\n\u001b[0;32m---> 37\u001b[0;31m     \u001b[0;32mreturn\u001b[0m \u001b[0mself\u001b[0m\u001b[0;34m.\u001b[0m\u001b[0m_convert_timestep\u001b[0m\u001b[0;34m(\u001b[0m\u001b[0mself\u001b[0m\u001b[0;34m.\u001b[0m\u001b[0m_environment\u001b[0m\u001b[0;34m.\u001b[0m\u001b[0mstep\u001b[0m\u001b[0;34m(\u001b[0m\u001b[0maction\u001b[0m\u001b[0;34m)\u001b[0m\u001b[0;34m)\u001b[0m\u001b[0;34m\u001b[0m\u001b[0;34m\u001b[0m\u001b[0m\n\u001b[0m\u001b[1;32m     38\u001b[0m \u001b[0;34m\u001b[0m\u001b[0m\n\u001b[1;32m     39\u001b[0m   \u001b[0;32mdef\u001b[0m \u001b[0mreset\u001b[0m\u001b[0;34m(\u001b[0m\u001b[0mself\u001b[0m\u001b[0;34m)\u001b[0m \u001b[0;34m->\u001b[0m \u001b[0mdm_env\u001b[0m\u001b[0;34m.\u001b[0m\u001b[0mTimeStep\u001b[0m\u001b[0;34m:\u001b[0m\u001b[0;34m\u001b[0m\u001b[0;34m\u001b[0m\u001b[0m\n",
      "\u001b[0;32m~/research/masters/robotics/rl/acme/acme/wrappers/gym_wrapper.py\u001b[0m in \u001b[0;36mstep\u001b[0;34m(self, action)\u001b[0m\n\u001b[1;32m     55\u001b[0m       \u001b[0;32mreturn\u001b[0m \u001b[0mself\u001b[0m\u001b[0;34m.\u001b[0m\u001b[0mreset\u001b[0m\u001b[0;34m(\u001b[0m\u001b[0;34m)\u001b[0m\u001b[0;34m\u001b[0m\u001b[0;34m\u001b[0m\u001b[0m\n\u001b[1;32m     56\u001b[0m \u001b[0;34m\u001b[0m\u001b[0m\n\u001b[0;32m---> 57\u001b[0;31m     \u001b[0mobservation\u001b[0m\u001b[0;34m,\u001b[0m \u001b[0mreward\u001b[0m\u001b[0;34m,\u001b[0m \u001b[0mdone\u001b[0m\u001b[0;34m,\u001b[0m \u001b[0minfo\u001b[0m \u001b[0;34m=\u001b[0m \u001b[0mself\u001b[0m\u001b[0;34m.\u001b[0m\u001b[0m_environment\u001b[0m\u001b[0;34m.\u001b[0m\u001b[0mstep\u001b[0m\u001b[0;34m(\u001b[0m\u001b[0maction\u001b[0m\u001b[0;34m)\u001b[0m\u001b[0;34m\u001b[0m\u001b[0;34m\u001b[0m\u001b[0m\n\u001b[0m\u001b[1;32m     58\u001b[0m     \u001b[0mself\u001b[0m\u001b[0;34m.\u001b[0m\u001b[0m_reset_next_step\u001b[0m \u001b[0;34m=\u001b[0m \u001b[0mdone\u001b[0m\u001b[0;34m\u001b[0m\u001b[0;34m\u001b[0m\u001b[0m\n\u001b[1;32m     59\u001b[0m \u001b[0;34m\u001b[0m\u001b[0m\n",
      "\u001b[0;32m~/research/masters/robotics/environments/robosuite/robosuite/wrappers/gym_wrapper.py\u001b[0m in \u001b[0;36mstep\u001b[0;34m(self, action)\u001b[0m\n\u001b[1;32m    108\u001b[0m                 \u001b[0;34m-\u001b[0m \u001b[0;34m(\u001b[0m\u001b[0mdict\u001b[0m\u001b[0;34m)\u001b[0m \u001b[0mmisc\u001b[0m \u001b[0minformation\u001b[0m\u001b[0;34m\u001b[0m\u001b[0;34m\u001b[0m\u001b[0m\n\u001b[1;32m    109\u001b[0m         \"\"\"\n\u001b[0;32m--> 110\u001b[0;31m         \u001b[0mob_dict\u001b[0m\u001b[0;34m,\u001b[0m \u001b[0mreward\u001b[0m\u001b[0;34m,\u001b[0m \u001b[0mdone\u001b[0m\u001b[0;34m,\u001b[0m \u001b[0minfo\u001b[0m \u001b[0;34m=\u001b[0m \u001b[0mself\u001b[0m\u001b[0;34m.\u001b[0m\u001b[0menv\u001b[0m\u001b[0;34m.\u001b[0m\u001b[0mstep\u001b[0m\u001b[0;34m(\u001b[0m\u001b[0maction\u001b[0m\u001b[0;34m)\u001b[0m\u001b[0;34m\u001b[0m\u001b[0;34m\u001b[0m\u001b[0m\n\u001b[0m\u001b[1;32m    111\u001b[0m         \u001b[0;32mreturn\u001b[0m \u001b[0mself\u001b[0m\u001b[0;34m.\u001b[0m\u001b[0m_flatten_obs\u001b[0m\u001b[0;34m(\u001b[0m\u001b[0mob_dict\u001b[0m\u001b[0;34m)\u001b[0m\u001b[0;34m,\u001b[0m \u001b[0mreward\u001b[0m\u001b[0;34m,\u001b[0m \u001b[0mdone\u001b[0m\u001b[0;34m,\u001b[0m \u001b[0minfo\u001b[0m\u001b[0;34m\u001b[0m\u001b[0;34m\u001b[0m\u001b[0m\n\u001b[1;32m    112\u001b[0m \u001b[0;34m\u001b[0m\u001b[0m\n",
      "\u001b[0;32m~/research/masters/robotics/environments/robosuite/robosuite/environments/base.py\u001b[0m in \u001b[0;36mstep\u001b[0;34m(self, action)\u001b[0m\n\u001b[1;32m    380\u001b[0m         \u001b[0;32mfor\u001b[0m \u001b[0mi\u001b[0m \u001b[0;32min\u001b[0m \u001b[0mrange\u001b[0m\u001b[0;34m(\u001b[0m\u001b[0mint\u001b[0m\u001b[0;34m(\u001b[0m\u001b[0mself\u001b[0m\u001b[0;34m.\u001b[0m\u001b[0mcontrol_timestep\u001b[0m \u001b[0;34m/\u001b[0m \u001b[0mself\u001b[0m\u001b[0;34m.\u001b[0m\u001b[0mmodel_timestep\u001b[0m\u001b[0;34m)\u001b[0m\u001b[0;34m)\u001b[0m\u001b[0;34m:\u001b[0m\u001b[0;34m\u001b[0m\u001b[0;34m\u001b[0m\u001b[0m\n\u001b[1;32m    381\u001b[0m             \u001b[0mself\u001b[0m\u001b[0;34m.\u001b[0m\u001b[0msim\u001b[0m\u001b[0;34m.\u001b[0m\u001b[0mforward\u001b[0m\u001b[0;34m(\u001b[0m\u001b[0;34m)\u001b[0m\u001b[0;34m\u001b[0m\u001b[0;34m\u001b[0m\u001b[0m\n\u001b[0;32m--> 382\u001b[0;31m             \u001b[0mself\u001b[0m\u001b[0;34m.\u001b[0m\u001b[0m_pre_action\u001b[0m\u001b[0;34m(\u001b[0m\u001b[0maction\u001b[0m\u001b[0;34m,\u001b[0m \u001b[0mpolicy_step\u001b[0m\u001b[0;34m)\u001b[0m\u001b[0;34m\u001b[0m\u001b[0;34m\u001b[0m\u001b[0m\n\u001b[0m\u001b[1;32m    383\u001b[0m             \u001b[0mself\u001b[0m\u001b[0;34m.\u001b[0m\u001b[0msim\u001b[0m\u001b[0;34m.\u001b[0m\u001b[0mstep\u001b[0m\u001b[0;34m(\u001b[0m\u001b[0;34m)\u001b[0m\u001b[0;34m\u001b[0m\u001b[0;34m\u001b[0m\u001b[0m\n\u001b[1;32m    384\u001b[0m             \u001b[0mself\u001b[0m\u001b[0;34m.\u001b[0m\u001b[0m_update_observables\u001b[0m\u001b[0;34m(\u001b[0m\u001b[0;34m)\u001b[0m\u001b[0;34m\u001b[0m\u001b[0;34m\u001b[0m\u001b[0m\n",
      "\u001b[0;32m~/research/masters/robotics/environments/robosuite/robosuite/environments/robot_env.py\u001b[0m in \u001b[0;36m_pre_action\u001b[0;34m(self, action, policy_step)\u001b[0m\n\u001b[1;32m    455\u001b[0m         \u001b[0;32mfor\u001b[0m \u001b[0midx\u001b[0m\u001b[0;34m,\u001b[0m \u001b[0mrobot\u001b[0m \u001b[0;32min\u001b[0m \u001b[0menumerate\u001b[0m\u001b[0;34m(\u001b[0m\u001b[0mself\u001b[0m\u001b[0;34m.\u001b[0m\u001b[0mrobots\u001b[0m\u001b[0;34m)\u001b[0m\u001b[0;34m:\u001b[0m\u001b[0;34m\u001b[0m\u001b[0;34m\u001b[0m\u001b[0m\n\u001b[1;32m    456\u001b[0m             \u001b[0mrobot_action\u001b[0m \u001b[0;34m=\u001b[0m \u001b[0maction\u001b[0m\u001b[0;34m[\u001b[0m\u001b[0mcutoff\u001b[0m\u001b[0;34m:\u001b[0m\u001b[0mcutoff\u001b[0m\u001b[0;34m+\u001b[0m\u001b[0mrobot\u001b[0m\u001b[0;34m.\u001b[0m\u001b[0maction_dim\u001b[0m\u001b[0;34m]\u001b[0m\u001b[0;34m\u001b[0m\u001b[0;34m\u001b[0m\u001b[0m\n\u001b[0;32m--> 457\u001b[0;31m             \u001b[0mrobot\u001b[0m\u001b[0;34m.\u001b[0m\u001b[0mcontrol\u001b[0m\u001b[0;34m(\u001b[0m\u001b[0mrobot_action\u001b[0m\u001b[0;34m,\u001b[0m \u001b[0mpolicy_step\u001b[0m\u001b[0;34m=\u001b[0m\u001b[0mpolicy_step\u001b[0m\u001b[0;34m)\u001b[0m\u001b[0;34m\u001b[0m\u001b[0;34m\u001b[0m\u001b[0m\n\u001b[0m\u001b[1;32m    458\u001b[0m             \u001b[0mcutoff\u001b[0m \u001b[0;34m+=\u001b[0m \u001b[0mrobot\u001b[0m\u001b[0;34m.\u001b[0m\u001b[0maction_dim\u001b[0m\u001b[0;34m\u001b[0m\u001b[0;34m\u001b[0m\u001b[0m\n\u001b[1;32m    459\u001b[0m \u001b[0;34m\u001b[0m\u001b[0m\n",
      "\u001b[0;32m~/research/masters/robotics/environments/robosuite/robosuite/robots/single_arm.py\u001b[0m in \u001b[0;36mcontrol\u001b[0;34m(self, action, policy_step)\u001b[0m\n\u001b[1;32m    260\u001b[0m         \u001b[0;31m# Get gripper action, if applicable\u001b[0m\u001b[0;34m\u001b[0m\u001b[0;34m\u001b[0m\u001b[0;34m\u001b[0m\u001b[0m\n\u001b[1;32m    261\u001b[0m         \u001b[0;32mif\u001b[0m \u001b[0mself\u001b[0m\u001b[0;34m.\u001b[0m\u001b[0mhas_gripper\u001b[0m\u001b[0;34m:\u001b[0m\u001b[0;34m\u001b[0m\u001b[0;34m\u001b[0m\u001b[0m\n\u001b[0;32m--> 262\u001b[0;31m             \u001b[0mself\u001b[0m\u001b[0;34m.\u001b[0m\u001b[0mgrip_action\u001b[0m\u001b[0;34m(\u001b[0m\u001b[0mgripper\u001b[0m\u001b[0;34m=\u001b[0m\u001b[0mself\u001b[0m\u001b[0;34m.\u001b[0m\u001b[0mgripper\u001b[0m\u001b[0;34m,\u001b[0m \u001b[0mgripper_action\u001b[0m\u001b[0;34m=\u001b[0m\u001b[0mgripper_action\u001b[0m\u001b[0;34m)\u001b[0m\u001b[0;34m\u001b[0m\u001b[0;34m\u001b[0m\u001b[0m\n\u001b[0m\u001b[1;32m    263\u001b[0m \u001b[0;34m\u001b[0m\u001b[0m\n\u001b[1;32m    264\u001b[0m         \u001b[0;31m# Apply joint torque control\u001b[0m\u001b[0;34m\u001b[0m\u001b[0;34m\u001b[0m\u001b[0;34m\u001b[0m\u001b[0m\n",
      "\u001b[0;32m~/research/masters/robotics/environments/robosuite/robosuite/robots/manipulator.py\u001b[0m in \u001b[0;36mgrip_action\u001b[0;34m(self, gripper, gripper_action)\u001b[0m\n\u001b[1;32m     22\u001b[0m             \u001b[0mgripper_action\u001b[0m \u001b[0;34m(\u001b[0m\u001b[0mfloat\u001b[0m\u001b[0;34m)\u001b[0m\u001b[0;34m:\u001b[0m \u001b[0mValue\u001b[0m \u001b[0mbetween\u001b[0m \u001b[0;34m[\u001b[0m\u001b[0;34m-\u001b[0m\u001b[0;36m1\u001b[0m\u001b[0;34m,\u001b[0m\u001b[0;36m1\u001b[0m\u001b[0;34m]\u001b[0m \u001b[0mto\u001b[0m \u001b[0msend\u001b[0m \u001b[0mto\u001b[0m \u001b[0mgripper\u001b[0m\u001b[0;34m\u001b[0m\u001b[0;34m\u001b[0m\u001b[0m\n\u001b[1;32m     23\u001b[0m         \"\"\"\n\u001b[0;32m---> 24\u001b[0;31m         \u001b[0mactuator_idxs\u001b[0m \u001b[0;34m=\u001b[0m \u001b[0;34m[\u001b[0m\u001b[0mself\u001b[0m\u001b[0;34m.\u001b[0m\u001b[0msim\u001b[0m\u001b[0;34m.\u001b[0m\u001b[0mmodel\u001b[0m\u001b[0;34m.\u001b[0m\u001b[0mactuator_name2id\u001b[0m\u001b[0;34m(\u001b[0m\u001b[0mactuator\u001b[0m\u001b[0;34m)\u001b[0m \u001b[0;32mfor\u001b[0m \u001b[0mactuator\u001b[0m \u001b[0;32min\u001b[0m \u001b[0mgripper\u001b[0m\u001b[0;34m.\u001b[0m\u001b[0mactuators\u001b[0m\u001b[0;34m]\u001b[0m\u001b[0;34m\u001b[0m\u001b[0;34m\u001b[0m\u001b[0m\n\u001b[0m\u001b[1;32m     25\u001b[0m         \u001b[0mgripper_action_actual\u001b[0m \u001b[0;34m=\u001b[0m \u001b[0mgripper\u001b[0m\u001b[0;34m.\u001b[0m\u001b[0mformat_action\u001b[0m\u001b[0;34m(\u001b[0m\u001b[0mgripper_action\u001b[0m\u001b[0;34m)\u001b[0m\u001b[0;34m\u001b[0m\u001b[0;34m\u001b[0m\u001b[0m\n\u001b[1;32m     26\u001b[0m         \u001b[0;31m# rescale normalized gripper action to control ranges\u001b[0m\u001b[0;34m\u001b[0m\u001b[0;34m\u001b[0m\u001b[0;34m\u001b[0m\u001b[0m\n",
      "\u001b[0;32m~/research/masters/robotics/environments/robosuite/robosuite/models/base.py\u001b[0m in \u001b[0;36mactuators\u001b[0;34m(self)\u001b[0m\n\u001b[1;32m    556\u001b[0m     \u001b[0;34m@\u001b[0m\u001b[0mproperty\u001b[0m\u001b[0;34m\u001b[0m\u001b[0;34m\u001b[0m\u001b[0m\n\u001b[1;32m    557\u001b[0m     \u001b[0;32mdef\u001b[0m \u001b[0mactuators\u001b[0m\u001b[0;34m(\u001b[0m\u001b[0mself\u001b[0m\u001b[0;34m)\u001b[0m\u001b[0;34m:\u001b[0m\u001b[0;34m\u001b[0m\u001b[0;34m\u001b[0m\u001b[0m\n\u001b[0;32m--> 558\u001b[0;31m         \u001b[0;32mreturn\u001b[0m \u001b[0mself\u001b[0m\u001b[0;34m.\u001b[0m\u001b[0mcorrect_naming\u001b[0m\u001b[0;34m(\u001b[0m\u001b[0mself\u001b[0m\u001b[0;34m.\u001b[0m\u001b[0m_actuators\u001b[0m\u001b[0;34m)\u001b[0m\u001b[0;34m\u001b[0m\u001b[0;34m\u001b[0m\u001b[0m\n\u001b[0m\u001b[1;32m    559\u001b[0m \u001b[0;34m\u001b[0m\u001b[0m\n\u001b[1;32m    560\u001b[0m     \u001b[0;34m@\u001b[0m\u001b[0mproperty\u001b[0m\u001b[0;34m\u001b[0m\u001b[0;34m\u001b[0m\u001b[0m\n",
      "\u001b[0;32m~/research/masters/robotics/environments/robosuite/robosuite/models/base.py\u001b[0m in \u001b[0;36mcorrect_naming\u001b[0;34m(self, names)\u001b[0m\n\u001b[1;32m    271\u001b[0m             \u001b[0;32mreturn\u001b[0m \u001b[0mself\u001b[0m\u001b[0;34m.\u001b[0m\u001b[0mnaming_prefix\u001b[0m \u001b[0;34m+\u001b[0m \u001b[0mnames\u001b[0m \u001b[0;32mif\u001b[0m \u001b[0;32mnot\u001b[0m \u001b[0mself\u001b[0m\u001b[0;34m.\u001b[0m\u001b[0mexclude_from_prefixing\u001b[0m\u001b[0;34m(\u001b[0m\u001b[0mnames\u001b[0m\u001b[0;34m)\u001b[0m \u001b[0;32melse\u001b[0m \u001b[0mnames\u001b[0m\u001b[0;34m\u001b[0m\u001b[0;34m\u001b[0m\u001b[0m\n\u001b[1;32m    272\u001b[0m         \u001b[0;32melif\u001b[0m \u001b[0mtype\u001b[0m\u001b[0;34m(\u001b[0m\u001b[0mnames\u001b[0m\u001b[0;34m)\u001b[0m \u001b[0;32mis\u001b[0m \u001b[0mlist\u001b[0m\u001b[0;34m:\u001b[0m\u001b[0;34m\u001b[0m\u001b[0;34m\u001b[0m\u001b[0m\n\u001b[0;32m--> 273\u001b[0;31m             \u001b[0;32mreturn\u001b[0m \u001b[0;34m[\u001b[0m\u001b[0mself\u001b[0m\u001b[0;34m.\u001b[0m\u001b[0mnaming_prefix\u001b[0m \u001b[0;34m+\u001b[0m \u001b[0mname\u001b[0m \u001b[0;32mif\u001b[0m \u001b[0;32mnot\u001b[0m \u001b[0mself\u001b[0m\u001b[0;34m.\u001b[0m\u001b[0mexclude_from_prefixing\u001b[0m\u001b[0;34m(\u001b[0m\u001b[0mname\u001b[0m\u001b[0;34m)\u001b[0m \u001b[0;32melse\u001b[0m \u001b[0mname\u001b[0m \u001b[0;32mfor\u001b[0m \u001b[0mname\u001b[0m \u001b[0;32min\u001b[0m \u001b[0mnames\u001b[0m\u001b[0;34m]\u001b[0m\u001b[0;34m\u001b[0m\u001b[0;34m\u001b[0m\u001b[0m\n\u001b[0m\u001b[1;32m    274\u001b[0m         \u001b[0;32melif\u001b[0m \u001b[0mtype\u001b[0m\u001b[0;34m(\u001b[0m\u001b[0mnames\u001b[0m\u001b[0;34m)\u001b[0m \u001b[0;32mis\u001b[0m \u001b[0mdict\u001b[0m\u001b[0;34m:\u001b[0m\u001b[0;34m\u001b[0m\u001b[0;34m\u001b[0m\u001b[0m\n\u001b[1;32m    275\u001b[0m             \u001b[0mnames\u001b[0m \u001b[0;34m=\u001b[0m \u001b[0mnames\u001b[0m\u001b[0;34m.\u001b[0m\u001b[0mcopy\u001b[0m\u001b[0;34m(\u001b[0m\u001b[0;34m)\u001b[0m\u001b[0;34m\u001b[0m\u001b[0;34m\u001b[0m\u001b[0m\n",
      "\u001b[0;32m~/research/masters/robotics/environments/robosuite/robosuite/models/base.py\u001b[0m in \u001b[0;36m<listcomp>\u001b[0;34m(.0)\u001b[0m\n\u001b[1;32m    271\u001b[0m             \u001b[0;32mreturn\u001b[0m \u001b[0mself\u001b[0m\u001b[0;34m.\u001b[0m\u001b[0mnaming_prefix\u001b[0m \u001b[0;34m+\u001b[0m \u001b[0mnames\u001b[0m \u001b[0;32mif\u001b[0m \u001b[0;32mnot\u001b[0m \u001b[0mself\u001b[0m\u001b[0;34m.\u001b[0m\u001b[0mexclude_from_prefixing\u001b[0m\u001b[0;34m(\u001b[0m\u001b[0mnames\u001b[0m\u001b[0;34m)\u001b[0m \u001b[0;32melse\u001b[0m \u001b[0mnames\u001b[0m\u001b[0;34m\u001b[0m\u001b[0;34m\u001b[0m\u001b[0m\n\u001b[1;32m    272\u001b[0m         \u001b[0;32melif\u001b[0m \u001b[0mtype\u001b[0m\u001b[0;34m(\u001b[0m\u001b[0mnames\u001b[0m\u001b[0;34m)\u001b[0m \u001b[0;32mis\u001b[0m \u001b[0mlist\u001b[0m\u001b[0;34m:\u001b[0m\u001b[0;34m\u001b[0m\u001b[0;34m\u001b[0m\u001b[0m\n\u001b[0;32m--> 273\u001b[0;31m             \u001b[0;32mreturn\u001b[0m \u001b[0;34m[\u001b[0m\u001b[0mself\u001b[0m\u001b[0;34m.\u001b[0m\u001b[0mnaming_prefix\u001b[0m \u001b[0;34m+\u001b[0m \u001b[0mname\u001b[0m \u001b[0;32mif\u001b[0m \u001b[0;32mnot\u001b[0m \u001b[0mself\u001b[0m\u001b[0;34m.\u001b[0m\u001b[0mexclude_from_prefixing\u001b[0m\u001b[0;34m(\u001b[0m\u001b[0mname\u001b[0m\u001b[0;34m)\u001b[0m \u001b[0;32melse\u001b[0m \u001b[0mname\u001b[0m \u001b[0;32mfor\u001b[0m \u001b[0mname\u001b[0m \u001b[0;32min\u001b[0m \u001b[0mnames\u001b[0m\u001b[0;34m]\u001b[0m\u001b[0;34m\u001b[0m\u001b[0;34m\u001b[0m\u001b[0m\n\u001b[0m\u001b[1;32m    274\u001b[0m         \u001b[0;32melif\u001b[0m \u001b[0mtype\u001b[0m\u001b[0;34m(\u001b[0m\u001b[0mnames\u001b[0m\u001b[0;34m)\u001b[0m \u001b[0;32mis\u001b[0m \u001b[0mdict\u001b[0m\u001b[0;34m:\u001b[0m\u001b[0;34m\u001b[0m\u001b[0;34m\u001b[0m\u001b[0m\n\u001b[1;32m    275\u001b[0m             \u001b[0mnames\u001b[0m \u001b[0;34m=\u001b[0m \u001b[0mnames\u001b[0m\u001b[0;34m.\u001b[0m\u001b[0mcopy\u001b[0m\u001b[0;34m(\u001b[0m\u001b[0;34m)\u001b[0m\u001b[0;34m\u001b[0m\u001b[0;34m\u001b[0m\u001b[0m\n",
      "\u001b[0;32m~/research/masters/robotics/environments/robosuite/robosuite/models/grippers/gripper_model.py\u001b[0m in \u001b[0;36mnaming_prefix\u001b[0;34m(self)\u001b[0m\n\u001b[1;32m     41\u001b[0m     \u001b[0;34m@\u001b[0m\u001b[0mproperty\u001b[0m\u001b[0;34m\u001b[0m\u001b[0;34m\u001b[0m\u001b[0m\n\u001b[1;32m     42\u001b[0m     \u001b[0;32mdef\u001b[0m \u001b[0mnaming_prefix\u001b[0m\u001b[0;34m(\u001b[0m\u001b[0mself\u001b[0m\u001b[0;34m)\u001b[0m\u001b[0;34m:\u001b[0m\u001b[0;34m\u001b[0m\u001b[0;34m\u001b[0m\u001b[0m\n\u001b[0;32m---> 43\u001b[0;31m         \u001b[0;32mreturn\u001b[0m \u001b[0;34m\"gripper{}_\"\u001b[0m\u001b[0;34m.\u001b[0m\u001b[0mformat\u001b[0m\u001b[0;34m(\u001b[0m\u001b[0mself\u001b[0m\u001b[0;34m.\u001b[0m\u001b[0midn\u001b[0m\u001b[0;34m)\u001b[0m\u001b[0;34m\u001b[0m\u001b[0;34m\u001b[0m\u001b[0m\n\u001b[0m\u001b[1;32m     44\u001b[0m \u001b[0;34m\u001b[0m\u001b[0m\n\u001b[1;32m     45\u001b[0m     \u001b[0;34m@\u001b[0m\u001b[0mproperty\u001b[0m\u001b[0;34m\u001b[0m\u001b[0;34m\u001b[0m\u001b[0m\n",
      "\u001b[0;31mKeyboardInterrupt\u001b[0m: "
     ]
    }
   ],
   "source": [
    "%%time\n",
    "num_training_episodes =  100 # @param {type: \"integer\"}\n",
    "min_actor_steps_before_learning = 3300  # @param {type: \"integer\"}\n",
    "num_actor_steps_per_iteration =   2500 # @param {type: \"integer\"}\n",
    "num_learner_steps_per_iteration = 1000  # @param {type: \"integer\"}\n",
    "\n",
    "learner_steps_taken = 0\n",
    "actor_steps_taken = 0\n",
    "print_every = 1\n",
    "for episode in range(num_training_episodes):\n",
    "  \n",
    "  timestep = environment.reset()\n",
    "  actor.observe_first(timestep)\n",
    "  episode_return = 0\n",
    "  \n",
    "  count = 0\n",
    "  while not timestep.last() and count < 500:\n",
    "    count += 1\n",
    "    # Get an action from the agent and step in the environment.\n",
    "    action = actor.select_action(timestep.observation)\n",
    "    next_timestep = environment.step(action)\n",
    "\n",
    "    # Record the transition.\n",
    "    actor.observe(action=action, next_timestep=next_timestep)\n",
    "\n",
    "    # Book-keeping.\n",
    "    episode_return += next_timestep.reward\n",
    "    actor_steps_taken += 1\n",
    "    timestep = next_timestep\n",
    "\n",
    "    # See if we have some learning to do.\n",
    "    if (actor_steps_taken >= min_actor_steps_before_learning and\n",
    "        actor_steps_taken % num_actor_steps_per_iteration == 0):\n",
    "      # Learn.\n",
    "      for learner_step in range(num_learner_steps_per_iteration):\n",
    "        learner.step()\n",
    "      learner_steps_taken += num_learner_steps_per_iteration\n",
    "  if((episode+1) % print_every) == 0:\n",
    "      # Log quantities.\n",
    "      print('Episode: %d | Return: %f | Learner steps: %d | Actor steps: %d'%(\n",
    "          episode, episode_return, learner_steps_taken, actor_steps_taken))"
   ]
  },
  {
   "cell_type": "markdown",
   "metadata": {
    "colab_type": "text",
    "id": "Z5w7y3iYYck7"
   },
   "source": [
    "## Putting it all together: an Acme agent\n",
    "\n",
    "<img src=\"https://github.com/deepmind/acme/raw/master/docs/diagrams/agent_loop.png\" width=\"500\" />\n",
    "\n",
    "Now that we've used all of the pieces and seen how they can interact, there's one more way we can put it all together. In the Acme design scheme, an agent is an entity with both a learner and an actor component that will piece together their interactions internally. An agent handles the interchange between actor adding experiences to the replay buffer and learner sampling from it and learning and in turn, sharing its weights back with the actor. \n",
    "\n",
    "Similar to how we used `num_actor_steps_per_iteration` and `num_learner_steps_per_iteration` parameters in our custom training loop above, the agent parameters `min_observations` and `observations_per_step` specify the structure of the agent's training loop. \n",
    "* `min_observations` specifies how many actor steps need to have happened to start learning.\n",
    "*  `observations_per_step` specifies how many actor steps should occur in between each learner step. "
   ]
  },
  {
   "cell_type": "code",
   "execution_count": 36,
   "metadata": {
    "colab": {},
    "colab_type": "code",
    "id": "bqFpIHE-aRRg"
   },
   "outputs": [],
   "source": [
    "d4pg_agent = agent.Agent(actor=actor,\n",
    "                         learner=learner,\n",
    "                         min_observations=1000,\n",
    "                         observations_per_step=8.)"
   ]
  },
  {
   "cell_type": "markdown",
   "metadata": {
    "colab_type": "text",
    "id": "o63pJeJl-Lv_"
   },
   "source": [
    "Of course we could have just used the `agents.D4PG` agent directly which sets\n",
    "all of this up for us. We'll stick with this agent we've just created, but most of the steps outlined in this tutorial can be skipped by just making use of a\n",
    "prebuilt agent and the environment loop."
   ]
  },
  {
   "cell_type": "markdown",
   "metadata": {
    "colab_type": "text",
    "id": "F25PNc1GWV0R"
   },
   "source": [
    "## Training the full agent"
   ]
  },
  {
   "cell_type": "markdown",
   "metadata": {
    "colab_type": "text",
    "id": "yRdwvHMQVoBB"
   },
   "source": [
    "To simplify collecting and storing experiences, you can also directly use Acme's `EnvironmentLoop` which runs the environment loop for a specified number of episodes. Each episode is itself a loop which interacts first with the environment to get an observation and then give that observation to the agent in order to retrieve an action. Upon termination of an episode a new episode will be started. If the number of episodes is not given then this will interact with the environment infinitely."
   ]
  },
  {
   "cell_type": "code",
   "execution_count": 38,
   "metadata": {
    "colab": {},
    "colab_type": "code",
    "id": "evoLYDDagdv3"
   },
   "outputs": [],
   "source": [
    "# This may be necessary if any of the episodes were cancelled above.\n",
    "adder.reset()\n",
    "\n",
    "# We also want to make sure the logger doesn't write to disk because that can\n",
    "# cause issues in colab on occasion.\n",
    "logger = loggers.TerminalLogger(time_delta=10.)"
   ]
  },
  {
   "cell_type": "code",
   "execution_count": 39,
   "metadata": {
    "colab": {},
    "colab_type": "code",
    "id": "5Gu5D2obWTBc"
   },
   "outputs": [
    {
     "ename": "ValueError",
     "evalue": "Field ('n_step_return',) has already been set in the active step by previous (partial) append call and thus must be omitted or set to None but got: [ 0.18401517 -0.15110452  0.82049584  0.          0.          0.7420161\n  0.6703821  -0.28694576  0.15417206  0.18904442  0.99978673  0.97990364\n  0.9999398  -0.86588454  0.99979615 -0.9808424   0.7174798   0.02065179\n  0.1994715  -0.01097325 -0.50024396  0.02018935  0.19480279  0.6965793\n  0.          0.          0.          0.          0.          0.\n  0.         -0.10293058  0.00306754  1.0095402   0.99797827  0.00287309\n  0.06347717 -0.00132838  0.020833   -0.020833    0.          0.        ]",
     "output_type": "error",
     "traceback": [
      "\u001b[0;31m---------------------------------------------------------------------------\u001b[0m",
      "\u001b[0;31mValueError\u001b[0m                                Traceback (most recent call last)",
      "\u001b[0;32m<ipython-input-39-ec6adc8d677b>\u001b[0m in \u001b[0;36m<module>\u001b[0;34m\u001b[0m\n\u001b[1;32m      1\u001b[0m \u001b[0mloop\u001b[0m \u001b[0;34m=\u001b[0m \u001b[0menvironment_loop\u001b[0m\u001b[0;34m.\u001b[0m\u001b[0mEnvironmentLoop\u001b[0m\u001b[0;34m(\u001b[0m\u001b[0menvironment\u001b[0m\u001b[0;34m,\u001b[0m \u001b[0md4pg_agent\u001b[0m\u001b[0;34m,\u001b[0m \u001b[0mlogger\u001b[0m\u001b[0;34m=\u001b[0m\u001b[0mlogger\u001b[0m\u001b[0;34m)\u001b[0m\u001b[0;34m\u001b[0m\u001b[0;34m\u001b[0m\u001b[0m\n\u001b[0;32m----> 2\u001b[0;31m \u001b[0mloop\u001b[0m\u001b[0;34m.\u001b[0m\u001b[0mrun\u001b[0m\u001b[0;34m(\u001b[0m\u001b[0mnum_episodes\u001b[0m\u001b[0;34m=\u001b[0m\u001b[0;36m50\u001b[0m\u001b[0;34m)\u001b[0m\u001b[0;34m\u001b[0m\u001b[0;34m\u001b[0m\u001b[0m\n\u001b[0m",
      "\u001b[0;32m~/research/masters/robotics/rl/acme/acme/environment_loop.py\u001b[0m in \u001b[0;36mrun\u001b[0;34m(self, num_episodes, num_steps)\u001b[0m\n\u001b[1;32m    157\u001b[0m     \u001b[0mepisode_count\u001b[0m\u001b[0;34m,\u001b[0m \u001b[0mstep_count\u001b[0m \u001b[0;34m=\u001b[0m \u001b[0;36m0\u001b[0m\u001b[0;34m,\u001b[0m \u001b[0;36m0\u001b[0m\u001b[0;34m\u001b[0m\u001b[0;34m\u001b[0m\u001b[0m\n\u001b[1;32m    158\u001b[0m     \u001b[0;32mwhile\u001b[0m \u001b[0;32mnot\u001b[0m \u001b[0mshould_terminate\u001b[0m\u001b[0;34m(\u001b[0m\u001b[0mepisode_count\u001b[0m\u001b[0;34m,\u001b[0m \u001b[0mstep_count\u001b[0m\u001b[0;34m)\u001b[0m\u001b[0;34m:\u001b[0m\u001b[0;34m\u001b[0m\u001b[0;34m\u001b[0m\u001b[0m\n\u001b[0;32m--> 159\u001b[0;31m       \u001b[0mresult\u001b[0m \u001b[0;34m=\u001b[0m \u001b[0mself\u001b[0m\u001b[0;34m.\u001b[0m\u001b[0mrun_episode\u001b[0m\u001b[0;34m(\u001b[0m\u001b[0;34m)\u001b[0m\u001b[0;34m\u001b[0m\u001b[0;34m\u001b[0m\u001b[0m\n\u001b[0m\u001b[1;32m    160\u001b[0m       \u001b[0mepisode_count\u001b[0m \u001b[0;34m+=\u001b[0m \u001b[0;36m1\u001b[0m\u001b[0;34m\u001b[0m\u001b[0;34m\u001b[0m\u001b[0m\n\u001b[1;32m    161\u001b[0m       \u001b[0mstep_count\u001b[0m \u001b[0;34m+=\u001b[0m \u001b[0mresult\u001b[0m\u001b[0;34m[\u001b[0m\u001b[0;34m'episode_length'\u001b[0m\u001b[0;34m]\u001b[0m\u001b[0;34m\u001b[0m\u001b[0;34m\u001b[0m\u001b[0m\n",
      "\u001b[0;32m~/research/masters/robotics/rl/acme/acme/environment_loop.py\u001b[0m in \u001b[0;36mrun_episode\u001b[0;34m(self)\u001b[0m\n\u001b[1;32m     88\u001b[0m \u001b[0;34m\u001b[0m\u001b[0m\n\u001b[1;32m     89\u001b[0m     \u001b[0;31m# Make the first observation.\u001b[0m\u001b[0;34m\u001b[0m\u001b[0;34m\u001b[0m\u001b[0;34m\u001b[0m\u001b[0m\n\u001b[0;32m---> 90\u001b[0;31m     \u001b[0mself\u001b[0m\u001b[0;34m.\u001b[0m\u001b[0m_actor\u001b[0m\u001b[0;34m.\u001b[0m\u001b[0mobserve_first\u001b[0m\u001b[0;34m(\u001b[0m\u001b[0mtimestep\u001b[0m\u001b[0;34m)\u001b[0m\u001b[0;34m\u001b[0m\u001b[0;34m\u001b[0m\u001b[0m\n\u001b[0m\u001b[1;32m     91\u001b[0m \u001b[0;34m\u001b[0m\u001b[0m\n\u001b[1;32m     92\u001b[0m     \u001b[0;31m# Run an episode.\u001b[0m\u001b[0;34m\u001b[0m\u001b[0;34m\u001b[0m\u001b[0;34m\u001b[0m\u001b[0m\n",
      "\u001b[0;32m~/research/masters/robotics/rl/acme/acme/agents/agent.py\u001b[0m in \u001b[0;36mobserve_first\u001b[0;34m(self, timestep)\u001b[0m\n\u001b[1;32m     71\u001b[0m \u001b[0;34m\u001b[0m\u001b[0m\n\u001b[1;32m     72\u001b[0m   \u001b[0;32mdef\u001b[0m \u001b[0mobserve_first\u001b[0m\u001b[0;34m(\u001b[0m\u001b[0mself\u001b[0m\u001b[0;34m,\u001b[0m \u001b[0mtimestep\u001b[0m\u001b[0;34m:\u001b[0m \u001b[0mdm_env\u001b[0m\u001b[0;34m.\u001b[0m\u001b[0mTimeStep\u001b[0m\u001b[0;34m)\u001b[0m\u001b[0;34m:\u001b[0m\u001b[0;34m\u001b[0m\u001b[0;34m\u001b[0m\u001b[0m\n\u001b[0;32m---> 73\u001b[0;31m     \u001b[0mself\u001b[0m\u001b[0;34m.\u001b[0m\u001b[0m_actor\u001b[0m\u001b[0;34m.\u001b[0m\u001b[0mobserve_first\u001b[0m\u001b[0;34m(\u001b[0m\u001b[0mtimestep\u001b[0m\u001b[0;34m)\u001b[0m\u001b[0;34m\u001b[0m\u001b[0;34m\u001b[0m\u001b[0m\n\u001b[0m\u001b[1;32m     74\u001b[0m \u001b[0;34m\u001b[0m\u001b[0m\n\u001b[1;32m     75\u001b[0m   \u001b[0;32mdef\u001b[0m \u001b[0mobserve\u001b[0m\u001b[0;34m(\u001b[0m\u001b[0mself\u001b[0m\u001b[0;34m,\u001b[0m \u001b[0maction\u001b[0m\u001b[0;34m:\u001b[0m \u001b[0mtypes\u001b[0m\u001b[0;34m.\u001b[0m\u001b[0mNestedArray\u001b[0m\u001b[0;34m,\u001b[0m \u001b[0mnext_timestep\u001b[0m\u001b[0;34m:\u001b[0m \u001b[0mdm_env\u001b[0m\u001b[0;34m.\u001b[0m\u001b[0mTimeStep\u001b[0m\u001b[0;34m)\u001b[0m\u001b[0;34m:\u001b[0m\u001b[0;34m\u001b[0m\u001b[0;34m\u001b[0m\u001b[0m\n",
      "\u001b[0;32m~/research/masters/robotics/rl/acme/acme/agents/tf/actors.py\u001b[0m in \u001b[0;36mobserve_first\u001b[0;34m(self, timestep)\u001b[0m\n\u001b[1;32m     84\u001b[0m   \u001b[0;32mdef\u001b[0m \u001b[0mobserve_first\u001b[0m\u001b[0;34m(\u001b[0m\u001b[0mself\u001b[0m\u001b[0;34m,\u001b[0m \u001b[0mtimestep\u001b[0m\u001b[0;34m:\u001b[0m \u001b[0mdm_env\u001b[0m\u001b[0;34m.\u001b[0m\u001b[0mTimeStep\u001b[0m\u001b[0;34m)\u001b[0m\u001b[0;34m:\u001b[0m\u001b[0;34m\u001b[0m\u001b[0;34m\u001b[0m\u001b[0m\n\u001b[1;32m     85\u001b[0m     \u001b[0;32mif\u001b[0m \u001b[0mself\u001b[0m\u001b[0;34m.\u001b[0m\u001b[0m_adder\u001b[0m\u001b[0;34m:\u001b[0m\u001b[0;34m\u001b[0m\u001b[0;34m\u001b[0m\u001b[0m\n\u001b[0;32m---> 86\u001b[0;31m       \u001b[0mself\u001b[0m\u001b[0;34m.\u001b[0m\u001b[0m_adder\u001b[0m\u001b[0;34m.\u001b[0m\u001b[0madd_first\u001b[0m\u001b[0;34m(\u001b[0m\u001b[0mtimestep\u001b[0m\u001b[0;34m)\u001b[0m\u001b[0;34m\u001b[0m\u001b[0;34m\u001b[0m\u001b[0m\n\u001b[0m\u001b[1;32m     87\u001b[0m \u001b[0;34m\u001b[0m\u001b[0m\n\u001b[1;32m     88\u001b[0m   \u001b[0;32mdef\u001b[0m \u001b[0mobserve\u001b[0m\u001b[0;34m(\u001b[0m\u001b[0mself\u001b[0m\u001b[0;34m,\u001b[0m \u001b[0maction\u001b[0m\u001b[0;34m:\u001b[0m \u001b[0mtypes\u001b[0m\u001b[0;34m.\u001b[0m\u001b[0mNestedArray\u001b[0m\u001b[0;34m,\u001b[0m \u001b[0mnext_timestep\u001b[0m\u001b[0;34m:\u001b[0m \u001b[0mdm_env\u001b[0m\u001b[0;34m.\u001b[0m\u001b[0mTimeStep\u001b[0m\u001b[0;34m)\u001b[0m\u001b[0;34m:\u001b[0m\u001b[0;34m\u001b[0m\u001b[0;34m\u001b[0m\u001b[0m\n",
      "\u001b[0;32m~/research/masters/robotics/rl/acme/acme/adders/reverb/base.py\u001b[0m in \u001b[0;36madd_first\u001b[0;34m(self, timestep)\u001b[0m\n\u001b[1;32m    152\u001b[0m     \u001b[0;31m# Record the next observation but leave the history buffer row open by\u001b[0m\u001b[0;34m\u001b[0m\u001b[0;34m\u001b[0m\u001b[0;34m\u001b[0m\u001b[0m\n\u001b[1;32m    153\u001b[0m     \u001b[0;31m# passing `partial_step=True`.\u001b[0m\u001b[0;34m\u001b[0m\u001b[0;34m\u001b[0m\u001b[0;34m\u001b[0m\u001b[0m\n\u001b[0;32m--> 154\u001b[0;31m     self._writer.append(dict(observation=timestep.observation,\n\u001b[0m\u001b[1;32m    155\u001b[0m                              start_of_episode=timestep.first()),\n\u001b[1;32m    156\u001b[0m                         partial_step=True)\n",
      "\u001b[0;32m~/miniconda3/envs/acme/lib/python3.8/site-packages/reverb/trajectory_writer.py\u001b[0m in \u001b[0;36mappend\u001b[0;34m(self, data, partial_step)\u001b[0m\n\u001b[1;32m    305\u001b[0m           \u001b[0;32mcontinue\u001b[0m\u001b[0;34m\u001b[0m\u001b[0;34m\u001b[0m\u001b[0m\n\u001b[1;32m    306\u001b[0m \u001b[0;34m\u001b[0m\u001b[0m\n\u001b[0;32m--> 307\u001b[0;31m         raise ValueError(\n\u001b[0m\u001b[1;32m    308\u001b[0m             \u001b[0;34mf'Field {self._get_path_for_column_index(i)} has already been set '\u001b[0m\u001b[0;34m\u001b[0m\u001b[0;34m\u001b[0m\u001b[0m\n\u001b[1;32m    309\u001b[0m             \u001b[0;34mf'in the active step by previous (partial) append call and thus '\u001b[0m\u001b[0;34m\u001b[0m\u001b[0;34m\u001b[0m\u001b[0m\n",
      "\u001b[0;31mValueError\u001b[0m: Field ('n_step_return',) has already been set in the active step by previous (partial) append call and thus must be omitted or set to None but got: [ 0.18401517 -0.15110452  0.82049584  0.          0.          0.7420161\n  0.6703821  -0.28694576  0.15417206  0.18904442  0.99978673  0.97990364\n  0.9999398  -0.86588454  0.99979615 -0.9808424   0.7174798   0.02065179\n  0.1994715  -0.01097325 -0.50024396  0.02018935  0.19480279  0.6965793\n  0.          0.          0.          0.          0.          0.\n  0.         -0.10293058  0.00306754  1.0095402   0.99797827  0.00287309\n  0.06347717 -0.00132838  0.020833   -0.020833    0.          0.        ]"
     ]
    }
   ],
   "source": [
    "loop = environment_loop.EnvironmentLoop(environment, d4pg_agent, logger=logger)\n",
    "loop.run(num_episodes=50)"
   ]
  },
  {
   "cell_type": "markdown",
   "metadata": {
    "colab_type": "text",
    "id": "EAn543WQfLNw"
   },
   "source": [
    "## Evaluate the D4PG agent\n",
    "\n",
    "We can now evaluate the agent. Note that this will use the noisy behavior policy, and so won't quite be optimal. If we wanted to be absolutely precise we could easily replace this with the noise-free policy. Note that the optimal policy can get about 1000 reward in this environment. D4PG should generally get to that within 50-100 learner steps. We've cut it off at 50 and not dropped the behavior noise just to simplify this tutorial. "
   ]
  },
  {
   "cell_type": "code",
   "execution_count": null,
   "metadata": {},
   "outputs": [],
   "source": [
    "agent."
   ]
  },
  {
   "cell_type": "code",
   "execution_count": 29,
   "metadata": {
    "colab": {},
    "colab_type": "code",
    "id": "2__mFiraWND1"
   },
   "outputs": [
    {
     "data": {
      "text/html": [
       "<video  width=\"320\" height=\"240\" controls alt=\"test\" src=\"data:video/mp4;base64,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\">"
      ],
      "text/plain": [
       "<IPython.core.display.HTML object>"
      ]
     },
     "execution_count": 29,
     "metadata": {},
     "output_type": "execute_result"
    }
   ],
   "source": [
    "# Run the actor in the environment for desired number of steps.\n",
    "frames = []\n",
    "num_steps = 1000\n",
    "timestep = environment.reset()\n",
    "\n",
    "for _ in range(num_steps):\n",
    "  frames.append(render(environment))\n",
    "  action = d4pg_agent.select_action(timestep.observation)\n",
    "  timestep = environment.step(action)\n",
    "\n",
    "# Save video of the behaviour.\n",
    "display_video(np.array(frames))"
   ]
  },
  {
   "cell_type": "code",
   "execution_count": null,
   "metadata": {},
   "outputs": [],
   "source": []
  }
 ],
 "metadata": {
  "colab": {
   "collapsed_sections": [
    "VEEj3Qw60y73"
   ],
   "name": "Acme: Tutorial",
   "provenance": []
  },
  "kernelspec": {
   "display_name": "Python 3",
   "language": "python",
   "name": "python3"
  },
  "language_info": {
   "codemirror_mode": {
    "name": "ipython",
    "version": 3
   },
   "file_extension": ".py",
   "mimetype": "text/x-python",
   "name": "python",
   "nbconvert_exporter": "python",
   "pygments_lexer": "ipython3",
   "version": "3.8.10"
  }
 },
 "nbformat": 4,
 "nbformat_minor": 4
}
